{
 "cells": [
  {
   "cell_type": "markdown",
   "metadata": {},
   "source": [
    " Extracción de Datos a Nivel Nacional"
   ]
  },
  {
   "cell_type": "code",
   "execution_count": 1,
   "metadata": {},
   "outputs": [],
   "source": [
    "import requests"
   ]
  },
  {
   "cell_type": "code",
   "execution_count": 2,
   "metadata": {},
   "outputs": [],
   "source": [
    "import pandas as pd"
   ]
  },
  {
   "cell_type": "code",
   "execution_count": 16,
   "metadata": {},
   "outputs": [],
   "source": [
    "pd.set_option('display.max_columns', None)  # para poder visualizar todas las columnas de los DataFrames"
   ]
  },
  {
   "cell_type": "code",
   "execution_count": 3,
   "metadata": {},
   "outputs": [],
   "source": [
    "url = \"https://apidatos.ree.es/es/datos/generacion/estructura-generacion?start_date=2011-01-01T00:00&end_date=2011-01-31T23:59&time_trunc=month\"\n",
    "\n",
    "energia = requests.get(url)\n"
   ]
  },
  {
   "cell_type": "code",
   "execution_count": 4,
   "metadata": {},
   "outputs": [
    {
     "data": {
      "text/plain": [
       "200"
      ]
     },
     "execution_count": 4,
     "metadata": {},
     "output_type": "execute_result"
    }
   ],
   "source": [
    "energia.status_code"
   ]
  },
  {
   "cell_type": "code",
   "execution_count": 5,
   "metadata": {},
   "outputs": [],
   "source": [
    "generacion_energia = energia.json()"
   ]
  },
  {
   "cell_type": "code",
   "execution_count": 7,
   "metadata": {},
   "outputs": [
    {
     "data": {
      "text/plain": [
       "2"
      ]
     },
     "execution_count": 7,
     "metadata": {},
     "output_type": "execute_result"
    }
   ],
   "source": [
    "len(generacion_energia)"
   ]
  },
  {
   "cell_type": "code",
   "execution_count": 9,
   "metadata": {},
   "outputs": [
    {
     "data": {
      "text/plain": [
       "dict_keys(['data', 'included'])"
      ]
     },
     "execution_count": 9,
     "metadata": {},
     "output_type": "execute_result"
    }
   ],
   "source": [
    "generacion_energia.keys()\n"
   ]
  },
  {
   "cell_type": "code",
   "execution_count": 10,
   "metadata": {},
   "outputs": [
    {
     "data": {
      "text/plain": [
       "{'type': 'Generación por tecnología',\n",
       " 'id': 'gen1',\n",
       " 'attributes': {'title': 'Generación por tecnología',\n",
       "  'last-update': '2019-06-12T15:32:24.000+02:00',\n",
       "  'description': None},\n",
       " 'meta': {'cache-control': {'cache': 'MISS'}}}"
      ]
     },
     "execution_count": 10,
     "metadata": {},
     "output_type": "execute_result"
    }
   ],
   "source": [
    "generacion_energia[\"data\"]"
   ]
  },
  {
   "cell_type": "code",
   "execution_count": null,
   "metadata": {},
   "outputs": [],
   "source": [
    "generacion_energia[\"included\"]"
   ]
  },
  {
   "cell_type": "code",
   "execution_count": 13,
   "metadata": {},
   "outputs": [
    {
     "data": {
      "text/plain": [
       "list"
      ]
     },
     "execution_count": 13,
     "metadata": {},
     "output_type": "execute_result"
    }
   ],
   "source": [
    "type(generacion_energia[\"included\"])"
   ]
  },
  {
   "cell_type": "code",
   "execution_count": 14,
   "metadata": {},
   "outputs": [
    {
     "data": {
      "text/plain": [
       "{'type': 'Hidráulica',\n",
       " 'id': '10288',\n",
       " 'groupId': '1',\n",
       " 'attributes': {'title': 'Hidráulica',\n",
       "  'description': None,\n",
       "  'color': '#0090d1',\n",
       "  'type': 'Renovable',\n",
       "  'magnitude': None,\n",
       "  'composite': False,\n",
       "  'last-update': '2019-06-12T15:32:24.000+02:00',\n",
       "  'values': [{'value': 5119512.38,\n",
       "    'percentage': 0.19757364151478785,\n",
       "    'datetime': '2011-01-01T00:00:00.000+01:00'}]}}"
      ]
     },
     "execution_count": 14,
     "metadata": {},
     "output_type": "execute_result"
    }
   ],
   "source": [
    "generacion_energia[\"included\"][0]"
   ]
  },
  {
   "cell_type": "code",
   "execution_count": 17,
   "metadata": {},
   "outputs": [
    {
     "data": {
      "text/html": [
       "<div>\n",
       "<style scoped>\n",
       "    .dataframe tbody tr th:only-of-type {\n",
       "        vertical-align: middle;\n",
       "    }\n",
       "\n",
       "    .dataframe tbody tr th {\n",
       "        vertical-align: top;\n",
       "    }\n",
       "\n",
       "    .dataframe thead th {\n",
       "        text-align: right;\n",
       "    }\n",
       "</style>\n",
       "<table border=\"1\" class=\"dataframe\">\n",
       "  <thead>\n",
       "    <tr style=\"text-align: right;\">\n",
       "      <th></th>\n",
       "      <th>type</th>\n",
       "      <th>id</th>\n",
       "      <th>groupId</th>\n",
       "      <th>attributes</th>\n",
       "    </tr>\n",
       "  </thead>\n",
       "  <tbody>\n",
       "    <tr>\n",
       "      <th>0</th>\n",
       "      <td>Hidráulica</td>\n",
       "      <td>10288</td>\n",
       "      <td>1</td>\n",
       "      <td>{'title': 'Hidráulica', 'description': None, '...</td>\n",
       "    </tr>\n",
       "    <tr>\n",
       "      <th>1</th>\n",
       "      <td>Turbinación bombeo</td>\n",
       "      <td>1445</td>\n",
       "      <td>1</td>\n",
       "      <td>{'title': 'Turbinación bombeo', 'description':...</td>\n",
       "    </tr>\n",
       "    <tr>\n",
       "      <th>2</th>\n",
       "      <td>Nuclear</td>\n",
       "      <td>1446</td>\n",
       "      <td>1</td>\n",
       "      <td>{'title': 'Nuclear', 'description': None, 'col...</td>\n",
       "    </tr>\n",
       "    <tr>\n",
       "      <th>3</th>\n",
       "      <td>Carbón</td>\n",
       "      <td>10289</td>\n",
       "      <td>1</td>\n",
       "      <td>{'title': 'Carbón', 'description': None, 'colo...</td>\n",
       "    </tr>\n",
       "    <tr>\n",
       "      <th>4</th>\n",
       "      <td>Fuel + Gas</td>\n",
       "      <td>10290</td>\n",
       "      <td>1</td>\n",
       "      <td>{'title': 'Fuel + Gas', 'description': None, '...</td>\n",
       "    </tr>\n",
       "  </tbody>\n",
       "</table>\n",
       "</div>"
      ],
      "text/plain": [
       "                 type     id groupId  \\\n",
       "0          Hidráulica  10288       1   \n",
       "1  Turbinación bombeo   1445       1   \n",
       "2             Nuclear   1446       1   \n",
       "3              Carbón  10289       1   \n",
       "4          Fuel + Gas  10290       1   \n",
       "\n",
       "                                          attributes  \n",
       "0  {'title': 'Hidráulica', 'description': None, '...  \n",
       "1  {'title': 'Turbinación bombeo', 'description':...  \n",
       "2  {'title': 'Nuclear', 'description': None, 'col...  \n",
       "3  {'title': 'Carbón', 'description': None, 'colo...  \n",
       "4  {'title': 'Fuel + Gas', 'description': None, '...  "
      ]
     },
     "execution_count": 17,
     "metadata": {},
     "output_type": "execute_result"
    }
   ],
   "source": [
    "df_include = pd.DataFrame(generacion_energia[\"included\"])\n",
    "df_include.head()\n"
   ]
  },
  {
   "cell_type": "code",
   "execution_count": 18,
   "metadata": {},
   "outputs": [
    {
     "data": {
      "text/plain": [
       "{'title': 'Hidráulica',\n",
       " 'description': None,\n",
       " 'color': '#0090d1',\n",
       " 'type': 'Renovable',\n",
       " 'magnitude': None,\n",
       " 'composite': False,\n",
       " 'last-update': '2019-06-12T15:32:24.000+02:00',\n",
       " 'values': [{'value': 5119512.38,\n",
       "   'percentage': 0.19757364151478785,\n",
       "   'datetime': '2011-01-01T00:00:00.000+01:00'}]}"
      ]
     },
     "execution_count": 18,
     "metadata": {},
     "output_type": "execute_result"
    }
   ],
   "source": [
    "generacion_energia[\"included\"][0]['attributes']"
   ]
  },
  {
   "cell_type": "code",
   "execution_count": 19,
   "metadata": {},
   "outputs": [
    {
     "data": {
      "text/html": [
       "<div>\n",
       "<style scoped>\n",
       "    .dataframe tbody tr th:only-of-type {\n",
       "        vertical-align: middle;\n",
       "    }\n",
       "\n",
       "    .dataframe tbody tr th {\n",
       "        vertical-align: top;\n",
       "    }\n",
       "\n",
       "    .dataframe thead th {\n",
       "        text-align: right;\n",
       "    }\n",
       "</style>\n",
       "<table border=\"1\" class=\"dataframe\">\n",
       "  <thead>\n",
       "    <tr style=\"text-align: right;\">\n",
       "      <th></th>\n",
       "      <th>title</th>\n",
       "      <th>description</th>\n",
       "      <th>color</th>\n",
       "      <th>type</th>\n",
       "      <th>magnitude</th>\n",
       "      <th>composite</th>\n",
       "      <th>last-update</th>\n",
       "      <th>values</th>\n",
       "    </tr>\n",
       "  </thead>\n",
       "  <tbody>\n",
       "    <tr>\n",
       "      <th>0</th>\n",
       "      <td>Hidráulica</td>\n",
       "      <td>None</td>\n",
       "      <td>#0090d1</td>\n",
       "      <td>Renovable</td>\n",
       "      <td>None</td>\n",
       "      <td>False</td>\n",
       "      <td>2019-06-12T15:32:24.000+02:00</td>\n",
       "      <td>{'value': 5119512.38, 'percentage': 0.19757364...</td>\n",
       "    </tr>\n",
       "  </tbody>\n",
       "</table>\n",
       "</div>"
      ],
      "text/plain": [
       "        title description    color       type magnitude  composite  \\\n",
       "0  Hidráulica        None  #0090d1  Renovable      None      False   \n",
       "\n",
       "                     last-update  \\\n",
       "0  2019-06-12T15:32:24.000+02:00   \n",
       "\n",
       "                                              values  \n",
       "0  {'value': 5119512.38, 'percentage': 0.19757364...  "
      ]
     },
     "execution_count": 19,
     "metadata": {},
     "output_type": "execute_result"
    }
   ],
   "source": [
    "df_include = pd.DataFrame(generacion_energia[\"included\"][0]['attributes'])\n",
    "df_include.head()"
   ]
  },
  {
   "cell_type": "markdown",
   "metadata": {},
   "source": [
    "'title': 'Hidráulica'\n",
    "'type': 'Renovable'\n",
    "'last-update': '2019-06-12T15:32:24.000+02:00'\n",
    "'values': [{'value': 5119512.38,\n",
    "   'percentage': 0.19757364151478785,\n",
    "   'datetime': '2011-01-01T00:00:00.000+01:00'}]"
   ]
  },
  {
   "cell_type": "code",
   "execution_count": 24,
   "metadata": {},
   "outputs": [],
   "source": [
    "dicc_generacion = {\"tipo_energia\":[], \"tipo_generacion\":[], \"fecha\":[], \"valor\":[]}\n",
    "\n",
    "for gen in generacion_energia[\"included\"]:\n",
    "    dicc_generacion [\"tipo_energia\"].append(gen[\"attributes\"]['title'])\n",
    "    dicc_generacion [\"tipo_generacion\"].append(gen[\"attributes\"]['type'])\n",
    "    dicc_generacion [\"fecha\"].append(gen[\"attributes\"]['last-update'])\n",
    "    dicc_generacion [\"valor\"].append(gen[\"attributes\"]['values'][0]['value'])\n",
    "    \n"
   ]
  },
  {
   "cell_type": "code",
   "execution_count": null,
   "metadata": {},
   "outputs": [],
   "source": [
    "dicc_generacion"
   ]
  },
  {
   "cell_type": "code",
   "execution_count": 27,
   "metadata": {},
   "outputs": [
    {
     "data": {
      "text/html": [
       "<div>\n",
       "<style scoped>\n",
       "    .dataframe tbody tr th:only-of-type {\n",
       "        vertical-align: middle;\n",
       "    }\n",
       "\n",
       "    .dataframe tbody tr th {\n",
       "        vertical-align: top;\n",
       "    }\n",
       "\n",
       "    .dataframe thead th {\n",
       "        text-align: right;\n",
       "    }\n",
       "</style>\n",
       "<table border=\"1\" class=\"dataframe\">\n",
       "  <thead>\n",
       "    <tr style=\"text-align: right;\">\n",
       "      <th></th>\n",
       "      <th>tipo_energia</th>\n",
       "      <th>tipo_generacion</th>\n",
       "      <th>fecha</th>\n",
       "      <th>valor</th>\n",
       "    </tr>\n",
       "  </thead>\n",
       "  <tbody>\n",
       "    <tr>\n",
       "      <th>0</th>\n",
       "      <td>Hidráulica</td>\n",
       "      <td>Renovable</td>\n",
       "      <td>2019-06-12T15:32:24.000+02:00</td>\n",
       "      <td>5119512.380</td>\n",
       "    </tr>\n",
       "    <tr>\n",
       "      <th>1</th>\n",
       "      <td>Turbinación bombeo</td>\n",
       "      <td>No-Renovable</td>\n",
       "      <td>2019-06-12T15:32:24.000+02:00</td>\n",
       "      <td>283944.912</td>\n",
       "    </tr>\n",
       "    <tr>\n",
       "      <th>2</th>\n",
       "      <td>Nuclear</td>\n",
       "      <td>No-Renovable</td>\n",
       "      <td>2018-12-10T12:55:09.000+01:00</td>\n",
       "      <td>4706500.878</td>\n",
       "    </tr>\n",
       "    <tr>\n",
       "      <th>3</th>\n",
       "      <td>Carbón</td>\n",
       "      <td>No-Renovable</td>\n",
       "      <td>2018-12-21T10:43:14.000+01:00</td>\n",
       "      <td>2303087.707</td>\n",
       "    </tr>\n",
       "    <tr>\n",
       "      <th>4</th>\n",
       "      <td>Fuel + Gas</td>\n",
       "      <td>No-Renovable</td>\n",
       "      <td>2018-12-10T12:55:14.000+01:00</td>\n",
       "      <td>-751.170</td>\n",
       "    </tr>\n",
       "  </tbody>\n",
       "</table>\n",
       "</div>"
      ],
      "text/plain": [
       "         tipo_energia tipo_generacion                          fecha  \\\n",
       "0          Hidráulica       Renovable  2019-06-12T15:32:24.000+02:00   \n",
       "1  Turbinación bombeo    No-Renovable  2019-06-12T15:32:24.000+02:00   \n",
       "2             Nuclear    No-Renovable  2018-12-10T12:55:09.000+01:00   \n",
       "3              Carbón    No-Renovable  2018-12-21T10:43:14.000+01:00   \n",
       "4          Fuel + Gas    No-Renovable  2018-12-10T12:55:14.000+01:00   \n",
       "\n",
       "         valor  \n",
       "0  5119512.380  \n",
       "1   283944.912  \n",
       "2  4706500.878  \n",
       "3  2303087.707  \n",
       "4     -751.170  "
      ]
     },
     "execution_count": 27,
     "metadata": {},
     "output_type": "execute_result"
    }
   ],
   "source": [
    "df_generacion = pd.DataFrame(dicc_generacion)\n",
    "df_generacion.head()"
   ]
  }
 ],
 "metadata": {
  "kernelspec": {
   "display_name": "base",
   "language": "python",
   "name": "python3"
  },
  "language_info": {
   "codemirror_mode": {
    "name": "ipython",
    "version": 3
   },
   "file_extension": ".py",
   "mimetype": "text/x-python",
   "name": "python",
   "nbconvert_exporter": "python",
   "pygments_lexer": "ipython3",
   "version": "3.9.7"
  }
 },
 "nbformat": 4,
 "nbformat_minor": 2
}
