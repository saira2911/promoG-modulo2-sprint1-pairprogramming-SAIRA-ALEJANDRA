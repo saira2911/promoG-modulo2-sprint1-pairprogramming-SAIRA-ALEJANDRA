{
 "cells": [
  {
   "cell_type": "code",
   "execution_count": 7,
   "metadata": {},
   "outputs": [],
   "source": [
    "from bs4 import BeautifulSoup\n",
    "import requests\n",
    "\n",
    "import pandas as pd\n",
    "\n",
    "import re"
   ]
  },
  {
   "cell_type": "code",
   "execution_count": 8,
   "metadata": {},
   "outputs": [
    {
     "name": "stdout",
     "output_type": "stream",
     "text": [
      "La respuesta es 200\n"
     ]
    }
   ],
   "source": [
    "url_coches = \"https://www.ocasionplus.com/coches-ocasion?type%3DCAR%26sort%3DFECHAOP_DESC%26page%3D2\"\n",
    "\n",
    "respuesta_coches = requests.get(url_coches)\n",
    "\n",
    "if respuesta_coches.status_code != 200:\n",
    "    print(f\"Error. El motivo es {respuesta_coches.reason}\")\n",
    "else:\n",
    "    print(f\"La respuesta es {respuesta_coches.status_code}\")"
   ]
  },
  {
   "cell_type": "code",
   "execution_count": 9,
   "metadata": {},
   "outputs": [],
   "source": [
    "sopa_coches = BeautifulSoup (respuesta_coches.content, \"html.parser\")"
   ]
  },
  {
   "cell_type": "code",
   "execution_count": 56,
   "metadata": {},
   "outputs": [
    {
     "data": {
      "text/plain": [
       "[<h2 style=\"overflow-x:hidden\">Volkswagen Golf 1.6 FSI Sportline (115CV)</h2>,\n",
       " <h2 style=\"overflow-x:hidden\">Toyota Auris 1.6 VVT-I Advance  (132 CV)</h2>,\n",
       " <h2 style=\"overflow-x:hidden\">Nissan Primastar 2.0 dCi L2H1 Go  (110 CV)</h2>,\n",
       " <h2 style=\"overflow-x:hidden\">SEAT Leon 1.6 TDI S&amp;S Style DSG (115 CV)</h2>,\n",
       " <h2 style=\"overflow-x:hidden\">Renault Megane Sport Tourer Bose Blue dCi (115 CV)</h2>,\n",
       " <h2 style=\"overflow-x:hidden\">Hyundai ix35 1.6 GDi Klass 4x2 (135 CV)</h2>,\n",
       " <h2 style=\"overflow-x:hidden\">Nissan Juke 1.6 DIG-T Tekna Xtronic (190 CV)</h2>,\n",
       " <h2 style=\"overflow-x:hidden\">Peugeot 5008 1.6 HDI Allure FAP 7 Plazas (115 CV)</h2>,\n",
       " <h2 style=\"overflow-x:hidden\">BMW Serie 1 118i (136 CV) PACK M</h2>,\n",
       " <h2 style=\"overflow-x:hidden\">MINI MINI Countryman One D (116 CV)</h2>,\n",
       " <h2 style=\"overflow-x:hidden\">Renault Megane Limited Blue dCi (115 CV)</h2>,\n",
       " <h2 style=\"overflow-x:hidden\">Mercedes-Benz Clase GLA Clase GLA 200 Style (156 CV)</h2>,\n",
       " <h2 style=\"overflow-x:hidden\">SEAT Leon ST 1.2 TSI S&amp;S Reference (110 CV)</h2>,\n",
       " <h2 style=\"overflow-x:hidden\">Citroen C4 Picasso 1.6 HDi 115cv Seduction</h2>,\n",
       " <h2 style=\"overflow-x:hidden\">Renault Captur Zen Energy dCi (90 CV) Ecoleader</h2>,\n",
       " <h2 style=\"overflow-x:hidden\">Subaru Impreza 1.6 GLP Executive AWD CVT Lineartronic (114 CV)</h2>,\n",
       " <h2 style=\"overflow-x:hidden\">Fiat 500L Pop Star 1.4 16v (95CV)</h2>,\n",
       " <h2 style=\"overflow-x:hidden\">Dacia Logan MCV Laureate TCE (90 CV)</h2>,\n",
       " <h2 style=\"overflow-x:hidden\">Citroen C5 Aircross BlueHdi 130 S&amp;S Shine (131 CV)</h2>,\n",
       " <h2 style=\"overflow-x:hidden\">Peugeot Rifter BlueHDi 130 Standard EAT8 (130 CV) GT Line</h2>]"
      ]
     },
     "execution_count": 56,
     "metadata": {},
     "output_type": "execute_result"
    }
   ],
   "source": [
    "lista_nombre_coche = sopa_coches.find_all(\"h2\", {\"style\" : \"overflow-x:hidden\"})\n",
    "lista_nombre_coche"
   ]
  },
  {
   "cell_type": "code",
   "execution_count": 15,
   "metadata": {},
   "outputs": [
    {
     "data": {
      "text/plain": [
       "['Volkswagen Golf 1.6 FSI Sportline (115CV)',\n",
       " 'Toyota Auris 1.6 VVT-I Advance  (132 CV)',\n",
       " 'Nissan Primastar 2.0 dCi L2H1 Go  (110 CV)',\n",
       " 'SEAT Leon 1.6 TDI S&S Style DSG (115 CV)',\n",
       " 'Renault Megane Sport Tourer Bose Blue dCi (115 CV)',\n",
       " 'Hyundai ix35 1.6 GDi Klass 4x2 (135 CV)',\n",
       " 'Nissan Juke 1.6 DIG-T Tekna Xtronic (190 CV)',\n",
       " 'Peugeot 5008 1.6 HDI Allure FAP 7 Plazas (115 CV)',\n",
       " 'BMW Serie 1 118i (136 CV) PACK M',\n",
       " 'MINI MINI Countryman One D (116 CV)',\n",
       " 'Renault Megane Limited Blue dCi (115 CV)',\n",
       " 'Mercedes-Benz Clase GLA Clase GLA 200 Style (156 CV)',\n",
       " 'SEAT Leon ST 1.2 TSI S&S Reference (110 CV)',\n",
       " 'Citroen C4 Picasso 1.6 HDi 115cv Seduction',\n",
       " 'Renault Captur Zen Energy dCi (90 CV) Ecoleader',\n",
       " 'Subaru Impreza 1.6 GLP Executive AWD CVT Lineartronic (114 CV)',\n",
       " 'Fiat 500L Pop Star 1.4 16v (95CV)',\n",
       " 'Dacia Logan MCV Laureate TCE (90 CV)',\n",
       " 'Citroen C5 Aircross BlueHdi 130 S&S Shine (131 CV)',\n",
       " 'Peugeot Rifter BlueHDi 130 Standard EAT8 (130 CV) GT Line']"
      ]
     },
     "execution_count": 15,
     "metadata": {},
     "output_type": "execute_result"
    }
   ],
   "source": [
    "lista_nombre_coche = sopa_coches.find_all(\"h2\", {\"style\" : \"overflow-x:hidden\"})\n",
    "\n",
    "lista_nombres = [coche.text for coche in lista_nombre_coche]\n",
    "\n",
    "lista_nombres\n",
    "    "
   ]
  },
  {
   "cell_type": "code",
   "execution_count": 19,
   "metadata": {},
   "outputs": [
    {
     "data": {
      "text/plain": [
       "['6.550€',\n",
       " '8.990€',\n",
       " '27.136€',\n",
       " '15.636€',\n",
       " '16.172€',\n",
       " '10.990€',\n",
       " '15.363€',\n",
       " '7.990€',\n",
       " '18.636€',\n",
       " '16.500€',\n",
       " '12.454€',\n",
       " '19.850€',\n",
       " '11.809€',\n",
       " '13.490€',\n",
       " '10.900€',\n",
       " '14.409€',\n",
       " '11.627€',\n",
       " '9.000€',\n",
       " '16.900€',\n",
       " '21.354€']"
      ]
     },
     "execution_count": 19,
     "metadata": {},
     "output_type": "execute_result"
    }
   ],
   "source": [
    "lista_precio_rebajado_coche = sopa_coches.find_all(\"span\", {\"class\" : \"jsx-2689423372 price\"})\n",
    "\n",
    "lista_precios_rebajados = [precio.text for precio in lista_precio_rebajado_coche]\n",
    "\n",
    "lista_precios_rebajados"
   ]
  },
  {
   "cell_type": "code",
   "execution_count": 54,
   "metadata": {},
   "outputs": [
    {
     "name": "stdout",
     "output_type": "stream",
     "text": [
      "14\n"
     ]
    },
    {
     "data": {
      "text/plain": [
       "['29.850€',\n",
       " '17.200€',\n",
       " '17.790€',\n",
       " '16.900€',\n",
       " '20.500€',\n",
       " '18.150€',\n",
       " '13.700€',\n",
       " '12.990€',\n",
       " '11.990€',\n",
       " '15.850€',\n",
       " '12.790€',\n",
       " '9.900€',\n",
       " '18.590€',\n",
       " '23.490€']"
      ]
     },
     "execution_count": 54,
     "metadata": {},
     "output_type": "execute_result"
    }
   ],
   "source": [
    "lista_precio_original_coche = sopa_coches.find_all(\"span\", {\"class\" : \"jsx-2870186023 priceLast\"})\n",
    "\n",
    "lista_precios_originales = [precioO.text for precioO in lista_precio_original_coche]\n",
    "\n",
    "print(len(lista_precios_originales))\n",
    "lista_precios_originales"
   ]
  },
  {
   "cell_type": "code",
   "execution_count": 40,
   "metadata": {},
   "outputs": [
    {
     "data": {
      "text/plain": [
       "['04/2004',\n",
       " '87.433 km',\n",
       " 'Gasolina',\n",
       " 'Manual',\n",
       " 'Libro Mantenimiento',\n",
       " '11/2009',\n",
       " '130.802 km',\n",
       " 'Gasolina',\n",
       " 'Manual',\n",
       " 'Libro Mantenimiento']"
      ]
     },
     "execution_count": 40,
     "metadata": {},
     "output_type": "execute_result"
    }
   ],
   "source": [
    "lista_km_recorridos_coche = sopa_coches.find_all(\"span\", {\"class\" : \"jsx-3960002075 detail big\"})\n",
    "lista_km_recorridos = [km.text for km in lista_km_recorridos_coche]\n",
    "lista_km_recorridos [:10]"
   ]
  },
  {
   "cell_type": "code",
   "execution_count": 57,
   "metadata": {},
   "outputs": [
    {
     "data": {
      "text/plain": [
       "['87.433 km',\n",
       " '130.802 km',\n",
       " '7.467 km',\n",
       " '25.529 km',\n",
       " '79.919 km',\n",
       " '142.408 km',\n",
       " '53.047 km',\n",
       " '180.406 km',\n",
       " '85.209 km',\n",
       " '101.087 km',\n",
       " '79.055 km',\n",
       " '123.597 km',\n",
       " '105.227 km',\n",
       " '29.527 km',\n",
       " '129.342 km',\n",
       " '123.478 km',\n",
       " '23.210 km',\n",
       " '53.594 km',\n",
       " '81.203 km',\n",
       " '91.499 km']"
      ]
     },
     "execution_count": 57,
     "metadata": {},
     "output_type": "execute_result"
    }
   ],
   "source": [
    "lista_km_recorridos_final = []\n",
    "\n",
    "for elemento in lista_km_recorridos:\n",
    "    \n",
    "    if \"km\" in elemento:\n",
    "        lista_km_recorridos_final.append(elemento)\n",
    "\n",
    "lista_km_recorridos_final"
   ]
  }
 ],
 "metadata": {
  "kernelspec": {
   "display_name": "base",
   "language": "python",
   "name": "python3"
  },
  "language_info": {
   "codemirror_mode": {
    "name": "ipython",
    "version": 3
   },
   "file_extension": ".py",
   "mimetype": "text/x-python",
   "name": "python",
   "nbconvert_exporter": "python",
   "pygments_lexer": "ipython3",
   "version": "3.9.7"
  }
 },
 "nbformat": 4,
 "nbformat_minor": 2
}
