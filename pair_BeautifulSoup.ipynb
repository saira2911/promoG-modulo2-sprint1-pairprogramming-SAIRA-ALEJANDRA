{
 "cells": [
  {
   "cell_type": "code",
   "execution_count": 58,
   "metadata": {},
   "outputs": [],
   "source": [
    "from bs4 import BeautifulSoup\n",
    "import requests\n",
    "\n",
    "import pandas as pd\n",
    "\n",
    "import re"
   ]
  },
  {
   "cell_type": "code",
   "execution_count": 59,
   "metadata": {},
   "outputs": [
    {
     "name": "stdout",
     "output_type": "stream",
     "text": [
      "La respuesta es 200\n"
     ]
    }
   ],
   "source": [
    "url_coches = \"https://www.ocasionplus.com/ofertas-especiales\"\n",
    "\n",
    "respuesta_coches = requests.get(url_coches)\n",
    "\n",
    "if respuesta_coches.status_code != 200:\n",
    "    print(f\"Error. El motivo es {respuesta_coches.reason}\")\n",
    "else:\n",
    "    print(f\"La respuesta es {respuesta_coches.status_code}\")"
   ]
  },
  {
   "cell_type": "code",
   "execution_count": null,
   "metadata": {},
   "outputs": [],
   "source": [
    "#https://www.ocasionplus.com/coches-ocasion?type%3DCAR%26sort%3DFECHAOP_DESC%26ofertas_especiales%3Dtrue%26page%3D2\n",
    "#https://www.ocasionplus.com/coches-ocasion?type%3DCAR%26sort%3DFECHAOP_DESC%26ofertas_especiales%3Dtrue%26page%3D3\n",
    "#https://www.ocasionplus.com/coches-ocasion?type%3DCAR%26sort%3DFECHAOP_DESC%26ofertas_especiales%3Dtrue%26page%3D4"
   ]
  },
  {
   "cell_type": "code",
   "execution_count": 70,
   "metadata": {},
   "outputs": [
    {
     "name": "stdout",
     "output_type": "stream",
     "text": [
      "La respuesta es 200\n",
      "La respuesta es 200\n",
      "La respuesta es 200\n",
      "La respuesta es 200\n"
     ]
    }
   ],
   "source": [
    "lista_paginas = []\n",
    "\n",
    "for pag in range(1, 5):\n",
    "\n",
    "    url_coches_todos = f\"https://www.ocasionplus.com/coches-ocasion?type%3DCAR%26sort%3DFECHAOP_DESC%26ofertas_especiales%3Dtrue%26page%3D{pag}\"\n",
    "\n",
    "    respuesta_coches = requests.get(url_coches)\n",
    "\n",
    "    if respuesta_coches.status_code != 200:\n",
    "        print(f\"Error. El motivo es {respuesta_coches.reason}\")\n",
    "    else:\n",
    "        print(f\"La respuesta es {respuesta_coches.status_code}\")\n",
    "        \n",
    "    \n"
   ]
  },
  {
   "cell_type": "code",
   "execution_count": 80,
   "metadata": {},
   "outputs": [],
   "source": [
    "def scrape_coches_ocasion (url, diccionario):\n",
    "\n",
    "    respuesta_coches = requests.get(url)\n",
    "\n",
    "    if respuesta_coches.status_code != 200:\n",
    "        print(f\"Error. El motivo es {respuesta_coches.reason}\")\n",
    "    else:\n",
    "        print(f\"La respuesta es {respuesta_coches.status_code}\")\n",
    "\n",
    "    sopa_coches = BeautifulSoup (respuesta_coches.content, \"html.parser\")\n",
    "\n",
    "    lista_nombre_coche = sopa_coches.find_all(\"h2\", {\"style\" : \"overflow-x:hidden\"})\n",
    "    lista_nombres = [coche.text for coche in lista_nombre_coche]\n",
    "    \n",
    "    lista_precio_rebajado_coche = sopa_coches.find_all(\"span\", {\"class\" : \"jsx-2689423372 price\"})\n",
    "    lista_precios_rebajados = [precio.text for precio in lista_precio_rebajado_coche]\n",
    "\n",
    "    lista_precio_original_coche = sopa_coches.find_all(\"span\", {\"class\" : \"jsx-2870186023 priceLast\"})\n",
    "    lista_precios_originales = [precioO.text for precioO in lista_precio_original_coche]\n",
    "\n",
    "    lista_km_recorridos_coche = sopa_coches.find_all(\"span\", {\"class\" : \"jsx-3960002075 detail big\"})\n",
    "    lista_km_recorridos = [km.text for km in lista_km_recorridos_coche]\n",
    "    lista_km_recorridos_final = []\n",
    "\n",
    "    for elemento in lista_km_recorridos:\n",
    "        if \"km\" in elemento:\n",
    "            lista_km_recorridos_final.append(elemento)\n",
    "\n",
    "    diccionario[\"coche\"].extend(lista_nombres)\n",
    "    diccionario[\"precio_rebajado\"].extend(lista_precios_rebajados)\n",
    "    diccionario[\"precio_original\"].extend(lista_precios_originales)\n",
    "    diccionario[\"KM\"].extend(lista_km_recorridos_final)\n",
    "\n",
    "    df_coches_ocasion = pd.DataFrame(diccionario)\n",
    "\n",
    "    return df_coches_ocasion\n"
   ]
  },
  {
   "cell_type": "code",
   "execution_count": 81,
   "metadata": {},
   "outputs": [
    {
     "name": "stdout",
     "output_type": "stream",
     "text": [
      "La respuesta es 200\n",
      "La respuesta es 200\n",
      "La respuesta es 200\n",
      "La respuesta es 200\n"
     ]
    }
   ],
   "source": [
    "diccionario_coche = {\"coche\" : [], \"precio_rebajado\" : [], \"precio_original\" : [], \"KM\" : []}\n",
    "\n",
    "for pag in range(1, 5):\n",
    "\n",
    "    url_coches_todos = f\"https://www.ocasionplus.com/coches-ocasion?type%3DCAR%26sort%3DFECHAOP_DESC%26ofertas_especiales%3Dtrue%26page%3D{pag}\"\n",
    "    \n",
    "    diccionario_coches_final = scrape_coches_ocasion(url_coches_todos, diccionario_coche)"
   ]
  },
  {
   "cell_type": "code",
   "execution_count": 82,
   "metadata": {},
   "outputs": [
    {
     "data": {
      "text/html": [
       "<div>\n",
       "<style scoped>\n",
       "    .dataframe tbody tr th:only-of-type {\n",
       "        vertical-align: middle;\n",
       "    }\n",
       "\n",
       "    .dataframe tbody tr th {\n",
       "        vertical-align: top;\n",
       "    }\n",
       "\n",
       "    .dataframe thead th {\n",
       "        text-align: right;\n",
       "    }\n",
       "</style>\n",
       "<table border=\"1\" class=\"dataframe\">\n",
       "  <thead>\n",
       "    <tr style=\"text-align: right;\">\n",
       "      <th></th>\n",
       "      <th>coche</th>\n",
       "      <th>precio_rebajado</th>\n",
       "      <th>precio_original</th>\n",
       "      <th>KM</th>\n",
       "    </tr>\n",
       "  </thead>\n",
       "  <tbody>\n",
       "    <tr>\n",
       "      <th>0</th>\n",
       "      <td>Dacia Jogger S.L. Extreme TCe (110CV) 7 plazas</td>\n",
       "      <td>18.090€</td>\n",
       "      <td>19.990€</td>\n",
       "      <td>54.057 km</td>\n",
       "    </tr>\n",
       "    <tr>\n",
       "      <th>1</th>\n",
       "      <td>Nissan X-Trail dCi Tekna 4x2 XTronic (130CV)</td>\n",
       "      <td>16.950€</td>\n",
       "      <td>18.500€</td>\n",
       "      <td>135.885 km</td>\n",
       "    </tr>\n",
       "    <tr>\n",
       "      <th>2</th>\n",
       "      <td>Opel Meriva 1.4 Selective (120CV)</td>\n",
       "      <td>9.000€</td>\n",
       "      <td>10.900€</td>\n",
       "      <td>73.411 km</td>\n",
       "    </tr>\n",
       "    <tr>\n",
       "      <th>3</th>\n",
       "      <td>Renault Kangoo Furgon Z.E. (60 CV) AUTO</td>\n",
       "      <td>10.727€</td>\n",
       "      <td>12.200€</td>\n",
       "      <td>42.321 km</td>\n",
       "    </tr>\n",
       "    <tr>\n",
       "      <th>4</th>\n",
       "      <td>Citroen Grand C4 Picasso BlueHDI 150 Airdream ...</td>\n",
       "      <td>13.545€</td>\n",
       "      <td>17.750€</td>\n",
       "      <td>116.684 km</td>\n",
       "    </tr>\n",
       "    <tr>\n",
       "      <th>...</th>\n",
       "      <td>...</td>\n",
       "      <td>...</td>\n",
       "      <td>...</td>\n",
       "      <td>...</td>\n",
       "    </tr>\n",
       "    <tr>\n",
       "      <th>75</th>\n",
       "      <td>Ford Fiesta 1.1 PFI GLP Trend  (75 CV)</td>\n",
       "      <td>11.536€</td>\n",
       "      <td>12.800€</td>\n",
       "      <td>70.923 km</td>\n",
       "    </tr>\n",
       "    <tr>\n",
       "      <th>76</th>\n",
       "      <td>Ford Tourneo Courier 1.0 EcoBoost Titanium (10...</td>\n",
       "      <td>14.000€</td>\n",
       "      <td>15.900€</td>\n",
       "      <td>103.175 km</td>\n",
       "    </tr>\n",
       "    <tr>\n",
       "      <th>77</th>\n",
       "      <td>Volvo XC40 T3 Momentum Pro Auto (163 CV)</td>\n",
       "      <td>22.900€</td>\n",
       "      <td>25.200€</td>\n",
       "      <td>112.835 km</td>\n",
       "    </tr>\n",
       "    <tr>\n",
       "      <th>78</th>\n",
       "      <td>Opel Crossland 1.5D GS Line (110 CV)</td>\n",
       "      <td>13.627€</td>\n",
       "      <td>15.300€</td>\n",
       "      <td>91.533 km</td>\n",
       "    </tr>\n",
       "    <tr>\n",
       "      <th>79</th>\n",
       "      <td>Nissan Qashqai DIG-T 160 N-Connecta 4x2 DCT (1...</td>\n",
       "      <td>18.627€</td>\n",
       "      <td>20.500€</td>\n",
       "      <td>76.252 km</td>\n",
       "    </tr>\n",
       "  </tbody>\n",
       "</table>\n",
       "<p>80 rows × 4 columns</p>\n",
       "</div>"
      ],
      "text/plain": [
       "                                                coche precio_rebajado  \\\n",
       "0      Dacia Jogger S.L. Extreme TCe (110CV) 7 plazas         18.090€   \n",
       "1        Nissan X-Trail dCi Tekna 4x2 XTronic (130CV)         16.950€   \n",
       "2                   Opel Meriva 1.4 Selective (120CV)          9.000€   \n",
       "3             Renault Kangoo Furgon Z.E. (60 CV) AUTO         10.727€   \n",
       "4   Citroen Grand C4 Picasso BlueHDI 150 Airdream ...         13.545€   \n",
       "..                                                ...             ...   \n",
       "75             Ford Fiesta 1.1 PFI GLP Trend  (75 CV)         11.536€   \n",
       "76  Ford Tourneo Courier 1.0 EcoBoost Titanium (10...         14.000€   \n",
       "77           Volvo XC40 T3 Momentum Pro Auto (163 CV)         22.900€   \n",
       "78               Opel Crossland 1.5D GS Line (110 CV)         13.627€   \n",
       "79  Nissan Qashqai DIG-T 160 N-Connecta 4x2 DCT (1...         18.627€   \n",
       "\n",
       "   precio_original          KM  \n",
       "0          19.990€   54.057 km  \n",
       "1          18.500€  135.885 km  \n",
       "2          10.900€   73.411 km  \n",
       "3          12.200€   42.321 km  \n",
       "4          17.750€  116.684 km  \n",
       "..             ...         ...  \n",
       "75         12.800€   70.923 km  \n",
       "76         15.900€  103.175 km  \n",
       "77         25.200€  112.835 km  \n",
       "78         15.300€   91.533 km  \n",
       "79         20.500€   76.252 km  \n",
       "\n",
       "[80 rows x 4 columns]"
      ]
     },
     "execution_count": 82,
     "metadata": {},
     "output_type": "execute_result"
    }
   ],
   "source": [
    "df_coches_ocasion"
   ]
  },
  {
   "cell_type": "code",
   "execution_count": 60,
   "metadata": {},
   "outputs": [],
   "source": [
    "sopa_coches = BeautifulSoup (respuesta_coches.content, \"html.parser\")"
   ]
  },
  {
   "cell_type": "code",
   "execution_count": 61,
   "metadata": {},
   "outputs": [
    {
     "data": {
      "text/plain": [
       "[<h2 style=\"overflow-x:hidden\">Dacia Jogger S.L. Extreme TCe (110CV) 7 plazas</h2>,\n",
       " <h2 style=\"overflow-x:hidden\">Nissan X-Trail dCi Tekna 4x2 XTronic (130CV)</h2>,\n",
       " <h2 style=\"overflow-x:hidden\">Opel Meriva 1.4 Selective (120CV)</h2>,\n",
       " <h2 style=\"overflow-x:hidden\">Renault Kangoo Furgon Z.E. (60 CV) AUTO</h2>,\n",
       " <h2 style=\"overflow-x:hidden\">Citroen Grand C4 Picasso BlueHDI 150 Airdream Feel Edition Aut. 7 Plazas (150 CV)</h2>,\n",
       " <h2 style=\"overflow-x:hidden\">BMW Serie 3 320i AUTO (184 CV)</h2>,\n",
       " <h2 style=\"overflow-x:hidden\">Skoda Fabia 1.0 TSI  (110cv) Ambition Plus</h2>,\n",
       " <h2 style=\"overflow-x:hidden\">Audi A3 Sportback Sportback Attracted 1.6 TDI clean diesel 81 kW (110 CV)</h2>,\n",
       " <h2 style=\"overflow-x:hidden\">Opel Corsa 1.5D DT Edition (102 CV)</h2>,\n",
       " <h2 style=\"overflow-x:hidden\">Audi A1 Sportback Sportback Attraction 1.6 TDI (116 CV)</h2>,\n",
       " <h2 style=\"overflow-x:hidden\">Mercedes-Benz Clase C C Coupe 43 Mercedes 4Matic (367 CV) AMG AUTO</h2>,\n",
       " <h2 style=\"overflow-x:hidden\">Citroen C4 BlueHDi 110 S&amp;S Feel (110 CV)</h2>,\n",
       " <h2 style=\"overflow-x:hidden\">Peugeot Traveller BlueHDi 120 S&amp;S Business Long (120 CV) 9 Plazas</h2>,\n",
       " <h2 style=\"overflow-x:hidden\">Peugeot Traveller BlueHDi 120 S&amp;S Business Long (120 CV) 9 Plazas</h2>,\n",
       " <h2 style=\"overflow-x:hidden\">BMW X1 sDrive18d (150 CV)</h2>,\n",
       " <h2 style=\"overflow-x:hidden\">Peugeot Traveller BlueHDi 120 S&amp;S Business Long (120 CV) 9 Plazas</h2>,\n",
       " <h2 style=\"overflow-x:hidden\">Peugeot Traveller BlueHDi 120 S&amp;S Business Long  (120 CV) 9 Plazas</h2>,\n",
       " <h2 style=\"overflow-x:hidden\">Peugeot Traveller Business Long (120 CV) 9 Plazas</h2>,\n",
       " <h2 style=\"overflow-x:hidden\">Peugeot Traveller Business Long (120 CV) 9 Plazas</h2>,\n",
       " <h2 style=\"overflow-x:hidden\">Tesla Model 3 Gran Autonomía 4WD (498 CV) Auto</h2>]"
      ]
     },
     "execution_count": 61,
     "metadata": {},
     "output_type": "execute_result"
    }
   ],
   "source": [
    "lista_nombre_coche = sopa_coches.find_all(\"h2\", {\"style\" : \"overflow-x:hidden\"})\n",
    "lista_nombre_coche"
   ]
  },
  {
   "cell_type": "code",
   "execution_count": 62,
   "metadata": {},
   "outputs": [
    {
     "data": {
      "text/plain": [
       "['Dacia Jogger S.L. Extreme TCe (110CV) 7 plazas',\n",
       " 'Nissan X-Trail dCi Tekna 4x2 XTronic (130CV)',\n",
       " 'Opel Meriva 1.4 Selective (120CV)',\n",
       " 'Renault Kangoo Furgon Z.E. (60 CV) AUTO',\n",
       " 'Citroen Grand C4 Picasso BlueHDI 150 Airdream Feel Edition Aut. 7 Plazas (150 CV)',\n",
       " 'BMW Serie 3 320i AUTO (184 CV)',\n",
       " 'Skoda Fabia 1.0 TSI  (110cv) Ambition Plus',\n",
       " 'Audi A3 Sportback Sportback Attracted 1.6 TDI clean diesel 81 kW (110 CV)',\n",
       " 'Opel Corsa 1.5D DT Edition (102 CV)',\n",
       " 'Audi A1 Sportback Sportback Attraction 1.6 TDI (116 CV)',\n",
       " 'Mercedes-Benz Clase C C Coupe 43 Mercedes 4Matic (367 CV) AMG AUTO',\n",
       " 'Citroen C4 BlueHDi 110 S&S Feel (110 CV)',\n",
       " 'Peugeot Traveller BlueHDi 120 S&S Business Long (120 CV) 9 Plazas',\n",
       " 'Peugeot Traveller BlueHDi 120 S&S Business Long (120 CV) 9 Plazas',\n",
       " 'BMW X1 sDrive18d (150 CV)',\n",
       " 'Peugeot Traveller BlueHDi 120 S&S Business Long (120 CV) 9 Plazas',\n",
       " 'Peugeot Traveller BlueHDi 120 S&S Business Long  (120 CV) 9 Plazas',\n",
       " 'Peugeot Traveller Business Long (120 CV) 9 Plazas',\n",
       " 'Peugeot Traveller Business Long (120 CV) 9 Plazas',\n",
       " 'Tesla Model 3 Gran Autonomía 4WD (498 CV) Auto']"
      ]
     },
     "execution_count": 62,
     "metadata": {},
     "output_type": "execute_result"
    }
   ],
   "source": [
    "lista_nombre_coche = sopa_coches.find_all(\"h2\", {\"style\" : \"overflow-x:hidden\"})\n",
    "\n",
    "lista_nombres = [coche.text for coche in lista_nombre_coche]\n",
    "\n",
    "lista_nombres\n",
    "    "
   ]
  },
  {
   "cell_type": "code",
   "execution_count": 63,
   "metadata": {},
   "outputs": [
    {
     "data": {
      "text/plain": [
       "['18.090€',\n",
       " '16.950€',\n",
       " '9.000€',\n",
       " '10.727€',\n",
       " '13.545€',\n",
       " '17.450€',\n",
       " '13.172€',\n",
       " '13.954€',\n",
       " '12.363€',\n",
       " '14.955€',\n",
       " '44.454€',\n",
       " '15.809€',\n",
       " '28.400€',\n",
       " '28.445€',\n",
       " '18.150€',\n",
       " '28.354€',\n",
       " '28.354€',\n",
       " '28.454€',\n",
       " '28.445€',\n",
       " '36.272€']"
      ]
     },
     "execution_count": 63,
     "metadata": {},
     "output_type": "execute_result"
    }
   ],
   "source": [
    "lista_precio_rebajado_coche = sopa_coches.find_all(\"span\", {\"class\" : \"jsx-2689423372 price\"})\n",
    "\n",
    "lista_precios_rebajados = [precio.text for precio in lista_precio_rebajado_coche]\n",
    "\n",
    "lista_precios_rebajados"
   ]
  },
  {
   "cell_type": "code",
   "execution_count": 64,
   "metadata": {},
   "outputs": [
    {
     "name": "stdout",
     "output_type": "stream",
     "text": [
      "20\n"
     ]
    },
    {
     "data": {
      "text/plain": [
       "['19.990€',\n",
       " '18.500€',\n",
       " '10.900€',\n",
       " '12.200€',\n",
       " '17.750€',\n",
       " '19.500€',\n",
       " '14.990€',\n",
       " '15.700€',\n",
       " '13.650€',\n",
       " '16.700€',\n",
       " '51.500€',\n",
       " '17.600€',\n",
       " '31.250€',\n",
       " '31.300€',\n",
       " '18.500€',\n",
       " '31.200€',\n",
       " '31.200€',\n",
       " '31.400€',\n",
       " '31.300€',\n",
       " '39.990€']"
      ]
     },
     "execution_count": 64,
     "metadata": {},
     "output_type": "execute_result"
    }
   ],
   "source": [
    "lista_precio_original_coche = sopa_coches.find_all(\"span\", {\"class\" : \"jsx-2870186023 priceLast\"})\n",
    "\n",
    "lista_precios_originales = [precioO.text for precioO in lista_precio_original_coche]\n",
    "\n",
    "print(len(lista_precios_originales))\n",
    "lista_precios_originales"
   ]
  },
  {
   "cell_type": "code",
   "execution_count": 65,
   "metadata": {},
   "outputs": [
    {
     "data": {
      "text/plain": [
       "['12/2022',\n",
       " '54.057 km',\n",
       " 'Gasolina',\n",
       " 'Manual',\n",
       " 'Libro Mantenimiento',\n",
       " 'Único propietario',\n",
       " 'Garantía oficial: Enero 2025',\n",
       " '11/2015',\n",
       " '135.885 km',\n",
       " 'Diésel']"
      ]
     },
     "execution_count": 65,
     "metadata": {},
     "output_type": "execute_result"
    }
   ],
   "source": [
    "lista_km_recorridos_coche = sopa_coches.find_all(\"span\", {\"class\" : \"jsx-3960002075 detail big\"})\n",
    "lista_km_recorridos = [km.text for km in lista_km_recorridos_coche]\n",
    "lista_km_recorridos [:10]"
   ]
  },
  {
   "cell_type": "code",
   "execution_count": 66,
   "metadata": {},
   "outputs": [
    {
     "data": {
      "text/plain": [
       "['54.057 km',\n",
       " '135.885 km',\n",
       " '73.411 km',\n",
       " '42.321 km',\n",
       " '116.684 km',\n",
       " '129.655 km',\n",
       " '52.382 km',\n",
       " '146.731 km',\n",
       " '32.709 km',\n",
       " '82.888 km',\n",
       " '91.525 km',\n",
       " '37.882 km',\n",
       " '77.831 km',\n",
       " '72.170 km',\n",
       " '117.610 km',\n",
       " '78.792 km',\n",
       " '70.193 km',\n",
       " '68.926 km',\n",
       " '74.763 km',\n",
       " '67.380 km']"
      ]
     },
     "execution_count": 66,
     "metadata": {},
     "output_type": "execute_result"
    }
   ],
   "source": [
    "lista_km_recorridos_final = []\n",
    "\n",
    "for elemento in lista_km_recorridos:\n",
    "    \n",
    "    if \"km\" in elemento:\n",
    "        lista_km_recorridos_final.append(elemento)\n",
    "\n",
    "lista_km_recorridos_final"
   ]
  }
 ],
 "metadata": {
  "kernelspec": {
   "display_name": "base",
   "language": "python",
   "name": "python3"
  },
  "language_info": {
   "codemirror_mode": {
    "name": "ipython",
    "version": 3
   },
   "file_extension": ".py",
   "mimetype": "text/x-python",
   "name": "python",
   "nbconvert_exporter": "python",
   "pygments_lexer": "ipython3",
   "version": "3.9.7"
  }
 },
 "nbformat": 4,
 "nbformat_minor": 2
}
